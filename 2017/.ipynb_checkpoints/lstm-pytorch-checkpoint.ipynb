{
 "cells": [
  {
   "cell_type": "code",
   "execution_count": 1,
   "metadata": {
    "collapsed": true
   },
   "outputs": [],
   "source": [
    "import pandas as pd\n",
    "import numpy as np\n",
    "import matplotlib.pyplot as plt\n",
    "%matplotlib inline"
   ]
  },
  {
   "cell_type": "code",
   "execution_count": 2,
   "metadata": {
    "collapsed": true
   },
   "outputs": [],
   "source": [
    "import numpy as np\n",
    "\n",
    "time_points = np.linspace(0, 8*np.pi, 8000)\n",
    "\n",
    "seq_length = 5\n",
    "dataX = []\n",
    "dataY = []\n",
    "for i in range(0, len(time_points) - seq_length, 1):\n",
    "    seq_in = np.sin(time_points)[i:i + seq_length]\n",
    "    seq_out = np.cos(time_points)[i]\n",
    "    dataX.append([seq_in])\n",
    "    dataY.append(seq_out)\n",
    "\n",
    "X = np.reshape(dataX, (len(dataX), seq_length, 1))\n",
    "y = np.reshape(dataY, (len(dataY), 1))"
   ]
  },
  {
   "cell_type": "markdown",
   "metadata": {},
   "source": [
    "The output for the LSTM is the output for all the hidden nodes on the final layer.\n",
    "\n",
    "* hidden_size - the number of LSTM blocks per layer.\n",
    "* input_size - the number of input features per time-step.\n",
    "* num_layers - the number of hidden layers.\n",
    "\n",
    "In total there are hidden_size * num_layers LSTM blocks.\n",
    "\n",
    "The input dimensions are (seq_len, batch, input_size).\n",
    "\n",
    "* seq_len - the number of time steps in each input stream.\n",
    "* batch - the size of each batch of input sequences.\n",
    "\n",
    "The hidden and cell dimensions are: `(num_layers, batch, hidden_size)`"
   ]
  },
  {
   "cell_type": "code",
   "execution_count": 6,
   "metadata": {},
   "outputs": [],
   "source": [
    "import torch"
   ]
  },
  {
   "cell_type": "code",
   "execution_count": 8,
   "metadata": {},
   "outputs": [
    {
     "data": {
      "text/plain": [
       "LSTM(5, 1)"
      ]
     },
     "execution_count": 8,
     "metadata": {},
     "output_type": "execute_result"
    }
   ],
   "source": [
    "lstm = torch.nn.LSTM()\n",
    "\n",
    "lstm = torch.nn.LSTM(seq_length, 1, 1)\n",
    "lstm.\n"
   ]
  },
  {
   "cell_type": "code",
   "execution_count": null,
   "metadata": {},
   "outputs": [
    {
     "name": "stdout",
     "output_type": "stream",
     "text": [
      "Train on 4200 samples, validate on 1800 samples\n",
      "Epoch 1/200\n",
      " - 3s - loss: 0.5164 - val_loss: 0.4741\n",
      "Epoch 2/200\n",
      " - 2s - loss: 0.5148 - val_loss: 0.4857\n",
      "Epoch 3/200\n",
      " - 2s - loss: 0.5140 - val_loss: 0.4769\n",
      "Epoch 4/200\n",
      " - 2s - loss: 0.5133 - val_loss: 0.4745\n",
      "Epoch 5/200\n",
      " - 2s - loss: 0.5137 - val_loss: 0.4791\n",
      "Epoch 6/200\n",
      " - 2s - loss: 0.5136 - val_loss: 0.4848\n",
      "Epoch 7/200\n"
     ]
    }
   ],
   "source": [
    "model = Sequential()\n",
    "model.add(LSTM(16, input_shape=(X.shape[1], X.shape[2])))\n",
    "\n",
    "\n",
    "model.add(Dense(y.shape[1], activation='linear'))\n",
    "model.compile(loss='mean_squared_error', optimizer='adam')\n",
    "model.fit(X[:6000], y[:6000], epochs=200, batch_size=10, verbose=2, validation_split=0.3)"
   ]
  },
  {
   "cell_type": "code",
   "execution_count": null,
   "metadata": {
    "collapsed": true
   },
   "outputs": [],
   "source": []
  }
 ],
 "metadata": {
  "kernelspec": {
   "display_name": "Python 3",
   "language": "python",
   "name": "python3"
  },
  "language_info": {
   "codemirror_mode": {
    "name": "ipython",
    "version": 3
   },
   "file_extension": ".py",
   "mimetype": "text/x-python",
   "name": "python",
   "nbconvert_exporter": "python",
   "pygments_lexer": "ipython3",
   "version": "3.6.3"
  }
 },
 "nbformat": 4,
 "nbformat_minor": 2
}
