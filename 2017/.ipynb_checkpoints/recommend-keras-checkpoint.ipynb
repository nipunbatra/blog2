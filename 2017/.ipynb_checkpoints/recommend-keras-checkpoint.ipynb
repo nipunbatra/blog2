{
 "cells": [
  {
   "cell_type": "markdown",
   "metadata": {},
   "source": [
    "# Recommender Systems in Keras"
   ]
  },
  {
   "cell_type": "markdown",
   "metadata": {},
   "source": [
    "I have written a [few](../nnmf-tensorflow.html) [posts](../nmf-autograd.html) [earlier](../nmf-cvx.html) [about](../nmf-out-matrix.html) [matrix](../mf-autograd-adagrad.html) [factorisation](../contrained-nmf-cvx.html) [using](../nmf-nnls.html) various Python libraries. The main application I had in mind for matrix factorisation was [recommender systems](https://en.wikipedia.org/wiki/Recommender_system). In this post, I'll write about using [Keras](https://keras.io) for creating recommender systems. [Various](https://github.com/maciejkula/triplet_recommendations_keras) [people](http://blog.richardweiss.org/2016/09/25/movie-embeddings.html) [have](https://github.com/bradleypallen/keras-movielens-cf) [written](https://github.com/hexiangnan/neural_collaborative_filtering) [excellent](https://github.com/sonyisme/keras-recommendation) [similar](http://course.fast.ai/lessons/lesson4.html) [posts](https://github.com/maciejkula/spotlight) and code that I draw a lot of inspiration from, and give them their credit! I'm assuming that a reader has some experience with Keras, as this post is not intended to be an introduction to Keras.\n",
    "\n",
    "Specifically, in this post, I'll talk about:\n",
    "\n",
    "1. Matrix Factorisation in Keras\n",
    "2. Adding non-negativitiy constraints to solve non-negative matrix factorisation (NNMF)\n",
    "3. Using neural networks for recommendations\n",
    "\n",
    "I'll be using the Movielens-100k dataset for illustration. There are 943 users and 1682 movies. In total there are a 100k ratings in the dataset. It should be noted that the max. total number of rating for the <users, movies> would be 943*1682, which means that we have about 7% of the total ratings! All rating are on a scale of 1-5. "
   ]
  },
  {
   "cell_type": "markdown",
   "metadata": {},
   "source": [
    "### **Task**\n",
    "\n",
    "Given this set of ratings, can we recommend the next set of movies to a user? This would translate to: for every user, estimating the ratings for all the movies that (s)he hasn't watched and maybe recommend the top-k movies by the esimtated ratings! "
   ]
  },
  {
   "cell_type": "markdown",
   "metadata": {},
   "source": [
    "### Peak into the dataset"
   ]
  },
  {
   "cell_type": "code",
   "execution_count": 17,
   "metadata": {},
   "outputs": [],
   "source": [
    "import pandas as pd\n",
    "import numpy as np\n",
    "import matplotlib.pyplot as plt\n",
    "import warnings\n",
    "warnings.filterwarnings('ignore')\n",
    "\n",
    "%matplotlib inline"
   ]
  },
  {
   "cell_type": "code",
   "execution_count": 2,
   "metadata": {},
   "outputs": [],
   "source": [
    "dataset = pd.read_csv(\"/Users/nipun/Downloads/ml-100k/u.data\",sep='\\t',names=\"user_id,item_id,rating,timestamp\".split(\",\"))"
   ]
  },
  {
   "cell_type": "code",
   "execution_count": 3,
   "metadata": {},
   "outputs": [
    {
     "data": {
      "text/html": [
       "<div>\n",
       "<style>\n",
       "    .dataframe thead tr:only-child th {\n",
       "        text-align: right;\n",
       "    }\n",
       "\n",
       "    .dataframe thead th {\n",
       "        text-align: left;\n",
       "    }\n",
       "\n",
       "    .dataframe tbody tr th {\n",
       "        vertical-align: top;\n",
       "    }\n",
       "</style>\n",
       "<table border=\"1\" class=\"dataframe\">\n",
       "  <thead>\n",
       "    <tr style=\"text-align: right;\">\n",
       "      <th></th>\n",
       "      <th>user_id</th>\n",
       "      <th>item_id</th>\n",
       "      <th>rating</th>\n",
       "      <th>timestamp</th>\n",
       "    </tr>\n",
       "  </thead>\n",
       "  <tbody>\n",
       "    <tr>\n",
       "      <th>0</th>\n",
       "      <td>196</td>\n",
       "      <td>242</td>\n",
       "      <td>3</td>\n",
       "      <td>881250949</td>\n",
       "    </tr>\n",
       "    <tr>\n",
       "      <th>1</th>\n",
       "      <td>186</td>\n",
       "      <td>302</td>\n",
       "      <td>3</td>\n",
       "      <td>891717742</td>\n",
       "    </tr>\n",
       "    <tr>\n",
       "      <th>2</th>\n",
       "      <td>22</td>\n",
       "      <td>377</td>\n",
       "      <td>1</td>\n",
       "      <td>878887116</td>\n",
       "    </tr>\n",
       "    <tr>\n",
       "      <th>3</th>\n",
       "      <td>244</td>\n",
       "      <td>51</td>\n",
       "      <td>2</td>\n",
       "      <td>880606923</td>\n",
       "    </tr>\n",
       "    <tr>\n",
       "      <th>4</th>\n",
       "      <td>166</td>\n",
       "      <td>346</td>\n",
       "      <td>1</td>\n",
       "      <td>886397596</td>\n",
       "    </tr>\n",
       "  </tbody>\n",
       "</table>\n",
       "</div>"
      ],
      "text/plain": [
       "   user_id  item_id  rating  timestamp\n",
       "0      196      242       3  881250949\n",
       "1      186      302       3  891717742\n",
       "2       22      377       1  878887116\n",
       "3      244       51       2  880606923\n",
       "4      166      346       1  886397596"
      ]
     },
     "execution_count": 3,
     "metadata": {},
     "output_type": "execute_result"
    }
   ],
   "source": [
    "dataset.head()"
   ]
  },
  {
   "cell_type": "markdown",
   "metadata": {},
   "source": [
    "So, each record (row) shows the rating for a user, item (movie) pair. It should be noted that I use  item and movie interchangeably in this post."
   ]
  },
  {
   "cell_type": "code",
   "execution_count": 4,
   "metadata": {},
   "outputs": [
    {
     "data": {
      "text/plain": [
       "(943, 1682)"
      ]
     },
     "execution_count": 4,
     "metadata": {},
     "output_type": "execute_result"
    }
   ],
   "source": [
    "len(dataset.user_id.unique()), len(dataset.item_id.unique())"
   ]
  },
  {
   "cell_type": "markdown",
   "metadata": {},
   "source": [
    "We assign a unique number between (0, #users) to each user and do the same for movies."
   ]
  },
  {
   "cell_type": "code",
   "execution_count": 5,
   "metadata": {},
   "outputs": [],
   "source": [
    "dataset.user_id = dataset.user_id.astype('category').cat.codes.values\n",
    "dataset.item_id = dataset.item_id.astype('category').cat.codes.values"
   ]
  },
  {
   "cell_type": "code",
   "execution_count": 6,
   "metadata": {},
   "outputs": [
    {
     "data": {
      "text/html": [
       "<div>\n",
       "<style>\n",
       "    .dataframe thead tr:only-child th {\n",
       "        text-align: right;\n",
       "    }\n",
       "\n",
       "    .dataframe thead th {\n",
       "        text-align: left;\n",
       "    }\n",
       "\n",
       "    .dataframe tbody tr th {\n",
       "        vertical-align: top;\n",
       "    }\n",
       "</style>\n",
       "<table border=\"1\" class=\"dataframe\">\n",
       "  <thead>\n",
       "    <tr style=\"text-align: right;\">\n",
       "      <th></th>\n",
       "      <th>user_id</th>\n",
       "      <th>item_id</th>\n",
       "      <th>rating</th>\n",
       "      <th>timestamp</th>\n",
       "    </tr>\n",
       "  </thead>\n",
       "  <tbody>\n",
       "    <tr>\n",
       "      <th>0</th>\n",
       "      <td>195</td>\n",
       "      <td>241</td>\n",
       "      <td>3</td>\n",
       "      <td>881250949</td>\n",
       "    </tr>\n",
       "    <tr>\n",
       "      <th>1</th>\n",
       "      <td>185</td>\n",
       "      <td>301</td>\n",
       "      <td>3</td>\n",
       "      <td>891717742</td>\n",
       "    </tr>\n",
       "    <tr>\n",
       "      <th>2</th>\n",
       "      <td>21</td>\n",
       "      <td>376</td>\n",
       "      <td>1</td>\n",
       "      <td>878887116</td>\n",
       "    </tr>\n",
       "    <tr>\n",
       "      <th>3</th>\n",
       "      <td>243</td>\n",
       "      <td>50</td>\n",
       "      <td>2</td>\n",
       "      <td>880606923</td>\n",
       "    </tr>\n",
       "    <tr>\n",
       "      <th>4</th>\n",
       "      <td>165</td>\n",
       "      <td>345</td>\n",
       "      <td>1</td>\n",
       "      <td>886397596</td>\n",
       "    </tr>\n",
       "  </tbody>\n",
       "</table>\n",
       "</div>"
      ],
      "text/plain": [
       "   user_id  item_id  rating  timestamp\n",
       "0      195      241       3  881250949\n",
       "1      185      301       3  891717742\n",
       "2       21      376       1  878887116\n",
       "3      243       50       2  880606923\n",
       "4      165      345       1  886397596"
      ]
     },
     "execution_count": 6,
     "metadata": {},
     "output_type": "execute_result"
    }
   ],
   "source": [
    "dataset.head()"
   ]
  },
  {
   "cell_type": "markdown",
   "metadata": {},
   "source": [
    "### Train test split\n",
    "\n",
    "We'll now split our dataset of 100k ratings into train (containing 80k ratings) and test (containing 20k ratings). Given the train set, we'd like to accurately estimate the ratings in the test set."
   ]
  },
  {
   "cell_type": "code",
   "execution_count": 7,
   "metadata": {},
   "outputs": [],
   "source": [
    "from sklearn.model_selection import train_test_split\n",
    "train, test = train_test_split(dataset, test_size=0.2)"
   ]
  },
  {
   "cell_type": "code",
   "execution_count": 8,
   "metadata": {},
   "outputs": [
    {
     "data": {
      "text/html": [
       "<div>\n",
       "<style>\n",
       "    .dataframe thead tr:only-child th {\n",
       "        text-align: right;\n",
       "    }\n",
       "\n",
       "    .dataframe thead th {\n",
       "        text-align: left;\n",
       "    }\n",
       "\n",
       "    .dataframe tbody tr th {\n",
       "        vertical-align: top;\n",
       "    }\n",
       "</style>\n",
       "<table border=\"1\" class=\"dataframe\">\n",
       "  <thead>\n",
       "    <tr style=\"text-align: right;\">\n",
       "      <th></th>\n",
       "      <th>user_id</th>\n",
       "      <th>item_id</th>\n",
       "      <th>rating</th>\n",
       "      <th>timestamp</th>\n",
       "    </tr>\n",
       "  </thead>\n",
       "  <tbody>\n",
       "    <tr>\n",
       "      <th>84827</th>\n",
       "      <td>855</td>\n",
       "      <td>293</td>\n",
       "      <td>4</td>\n",
       "      <td>891489502</td>\n",
       "    </tr>\n",
       "    <tr>\n",
       "      <th>27414</th>\n",
       "      <td>427</td>\n",
       "      <td>876</td>\n",
       "      <td>5</td>\n",
       "      <td>885943685</td>\n",
       "    </tr>\n",
       "    <tr>\n",
       "      <th>23561</th>\n",
       "      <td>494</td>\n",
       "      <td>70</td>\n",
       "      <td>5</td>\n",
       "      <td>888634111</td>\n",
       "    </tr>\n",
       "    <tr>\n",
       "      <th>41772</th>\n",
       "      <td>61</td>\n",
       "      <td>722</td>\n",
       "      <td>2</td>\n",
       "      <td>879375738</td>\n",
       "    </tr>\n",
       "    <tr>\n",
       "      <th>74607</th>\n",
       "      <td>882</td>\n",
       "      <td>702</td>\n",
       "      <td>3</td>\n",
       "      <td>891693139</td>\n",
       "    </tr>\n",
       "  </tbody>\n",
       "</table>\n",
       "</div>"
      ],
      "text/plain": [
       "       user_id  item_id  rating  timestamp\n",
       "84827      855      293       4  891489502\n",
       "27414      427      876       5  885943685\n",
       "23561      494       70       5  888634111\n",
       "41772       61      722       2  879375738\n",
       "74607      882      702       3  891693139"
      ]
     },
     "execution_count": 8,
     "metadata": {},
     "output_type": "execute_result"
    }
   ],
   "source": [
    "train.head()"
   ]
  },
  {
   "cell_type": "code",
   "execution_count": 9,
   "metadata": {},
   "outputs": [
    {
     "data": {
      "text/html": [
       "<div>\n",
       "<style>\n",
       "    .dataframe thead tr:only-child th {\n",
       "        text-align: right;\n",
       "    }\n",
       "\n",
       "    .dataframe thead th {\n",
       "        text-align: left;\n",
       "    }\n",
       "\n",
       "    .dataframe tbody tr th {\n",
       "        vertical-align: top;\n",
       "    }\n",
       "</style>\n",
       "<table border=\"1\" class=\"dataframe\">\n",
       "  <thead>\n",
       "    <tr style=\"text-align: right;\">\n",
       "      <th></th>\n",
       "      <th>user_id</th>\n",
       "      <th>item_id</th>\n",
       "      <th>rating</th>\n",
       "      <th>timestamp</th>\n",
       "    </tr>\n",
       "  </thead>\n",
       "  <tbody>\n",
       "    <tr>\n",
       "      <th>78376</th>\n",
       "      <td>621</td>\n",
       "      <td>28</td>\n",
       "      <td>4</td>\n",
       "      <td>882592735</td>\n",
       "    </tr>\n",
       "    <tr>\n",
       "      <th>11506</th>\n",
       "      <td>129</td>\n",
       "      <td>741</td>\n",
       "      <td>5</td>\n",
       "      <td>876251053</td>\n",
       "    </tr>\n",
       "    <tr>\n",
       "      <th>77568</th>\n",
       "      <td>628</td>\n",
       "      <td>287</td>\n",
       "      <td>4</td>\n",
       "      <td>880116722</td>\n",
       "    </tr>\n",
       "    <tr>\n",
       "      <th>49588</th>\n",
       "      <td>295</td>\n",
       "      <td>1006</td>\n",
       "      <td>4</td>\n",
       "      <td>884196921</td>\n",
       "    </tr>\n",
       "    <tr>\n",
       "      <th>19957</th>\n",
       "      <td>285</td>\n",
       "      <td>166</td>\n",
       "      <td>5</td>\n",
       "      <td>877533419</td>\n",
       "    </tr>\n",
       "  </tbody>\n",
       "</table>\n",
       "</div>"
      ],
      "text/plain": [
       "       user_id  item_id  rating  timestamp\n",
       "78376      621       28       4  882592735\n",
       "11506      129      741       5  876251053\n",
       "77568      628      287       4  880116722\n",
       "49588      295     1006       4  884196921\n",
       "19957      285      166       5  877533419"
      ]
     },
     "execution_count": 9,
     "metadata": {},
     "output_type": "execute_result"
    }
   ],
   "source": [
    "test.head()"
   ]
  },
  {
   "cell_type": "markdown",
   "metadata": {},
   "source": [
    "### Matrix factorisation\n",
    "\n",
    "One popular recommender systems approach is called Matrix Factorisation. It works on the principle that we can learn a low-dimensional representation (embedding) of user and movie. For example, for each movie, we can have how much action it has, how long it is, and so on. For each user, we can encode how much they like action, or how much they like long movies, etc. Thus, we can combine the user and the movie embeddings to estimate the ratings on unseen movies. This approach can also be viewed as: given a matrix (A [M X N]) containing users and movies, we want to estimate low dimensional matrices (W [M X k] and H [M X k]), such that: $A \\approx W.H^T$"
   ]
  },
  {
   "cell_type": "markdown",
   "metadata": {},
   "source": [
    "### Matrix factorisation in Keras\n",
    "\n",
    "We'll now write some code to solve the recommendation problem by matrix factorisation in Keras. We're trying to learn two low-dimensional embeddings of users and items.\n",
    "\n",
    "\n"
   ]
  },
  {
   "cell_type": "code",
   "execution_count": 10,
   "metadata": {},
   "outputs": [
    {
     "name": "stderr",
     "output_type": "stream",
     "text": [
      "Using TensorFlow backend.\n"
     ]
    }
   ],
   "source": [
    "import keras\n",
    "from IPython.display import SVG\n",
    "from keras.utils.vis_utils import model_to_dot\n",
    "n_users, n_movies = len(dataset.user_id.unique()), len(dataset.item_id.unique())\n",
    "n_latent_factors = 3"
   ]
  },
  {
   "cell_type": "markdown",
   "metadata": {},
   "source": [
    "The key thing is to learn an embedding for movies and users, and then combine them using the dot product! For estimating the rating, for each user, movie pair of interest, we'd take the dot product of the respective user and item embedding. As an example, if we have 2 dimensions in our user and item embedding, which say correspond to [how much user likes action, how much user likes long movies], and the item embedding is [how much action is in the movie, how long is the movie]. Then, we can predict for a user `u`, and movie `m` as how much `u` likes action $\\times$ how much action is there in `m` $+$ how much `u` likes long movies $\\times$ how long is `m`.\n",
    "\n",
    "Our model would optimise the emebedding such that we minimise the mean squared error on the ratings from the train set."
   ]
  },
  {
   "cell_type": "code",
   "execution_count": 11,
   "metadata": {},
   "outputs": [],
   "source": [
    "movie_input = keras.layers.Input(shape=[1],name='Item')\n",
    "movie_embedding = keras.layers.Embedding(n_movies + 1, n_latent_factors, name='Movie-Embedding')(movie_input)\n",
    "movie_vec = keras.layers.Flatten(name='FlattenMovies')(movie_embedding)\n",
    "\n",
    "user_input = keras.layers.Input(shape=[1],name='User')\n",
    "user_vec = keras.layers.Flatten(name='FlattenUsers')(keras.layers.Embedding(n_users + 1, n_latent_factors,name='User-Embedding')(user_input))\n",
    "\n",
    "prod = keras.layers.merge([movie_vec, user_vec], mode='dot',name='DotProduct')\n",
    "model = keras.Model([user_input, movie_input], prod)\n",
    "model.compile('adam', 'mean_squared_error')"
   ]
  },
  {
   "cell_type": "markdown",
   "metadata": {},
   "source": [
    "Here's a visualisation of our model for a better understanding."
   ]
  },
  {
   "cell_type": "code",
   "execution_count": 12,
   "metadata": {},
   "outputs": [
    {
     "data": {
      "image/svg+xml": [
       "<svg height=\"296pt\" viewBox=\"0.00 0.00 681.82 296.00\" width=\"682pt\" xmlns=\"http://www.w3.org/2000/svg\" xmlns:xlink=\"http://www.w3.org/1999/xlink\">\n",
       "<g class=\"graph\" id=\"graph0\" transform=\"scale(1 1) rotate(0) translate(4 292)\">\n",
       "<title>G</title>\n",
       "<polygon fill=\"white\" points=\"-4,4 -4,-292 677.815,-292 677.815,4 -4,4\" stroke=\"none\"/>\n",
       "<!-- 4716334832 -->\n",
       "<g class=\"node\" id=\"node1\"><title>4716334832</title>\n",
       "<polygon fill=\"none\" points=\"48.2275,-243.5 48.2275,-287.5 284.783,-287.5 284.783,-243.5 48.2275,-243.5\" stroke=\"black\"/>\n",
       "<text font-family=\"Times,serif\" font-size=\"14.00\" text-anchor=\"middle\" x=\"103.847\" y=\"-261.3\">Item: InputLayer</text>\n",
       "<polyline fill=\"none\" points=\"159.466,-243.5 159.466,-287.5 \" stroke=\"black\"/>\n",
       "<text font-family=\"Times,serif\" font-size=\"14.00\" text-anchor=\"middle\" x=\"187.3\" y=\"-272.3\">input:</text>\n",
       "<polyline fill=\"none\" points=\"159.466,-265.5 215.135,-265.5 \" stroke=\"black\"/>\n",
       "<text font-family=\"Times,serif\" font-size=\"14.00\" text-anchor=\"middle\" x=\"187.3\" y=\"-250.3\">output:</text>\n",
       "<polyline fill=\"none\" points=\"215.135,-243.5 215.135,-287.5 \" stroke=\"black\"/>\n",
       "<text font-family=\"Times,serif\" font-size=\"14.00\" text-anchor=\"middle\" x=\"249.959\" y=\"-272.3\">(None, 1)</text>\n",
       "<polyline fill=\"none\" points=\"215.135,-265.5 284.783,-265.5 \" stroke=\"black\"/>\n",
       "<text font-family=\"Times,serif\" font-size=\"14.00\" text-anchor=\"middle\" x=\"249.959\" y=\"-250.3\">(None, 1)</text>\n",
       "</g>\n",
       "<!-- 4716334944 -->\n",
       "<g class=\"node\" id=\"node3\"><title>4716334944</title>\n",
       "<polygon fill=\"none\" points=\"0,-162.5 0,-206.5 333.011,-206.5 333.011,-162.5 0,-162.5\" stroke=\"black\"/>\n",
       "<text font-family=\"Times,serif\" font-size=\"14.00\" text-anchor=\"middle\" x=\"96.8467\" y=\"-180.3\">Movie-Embedding: Embedding</text>\n",
       "<polyline fill=\"none\" points=\"193.693,-162.5 193.693,-206.5 \" stroke=\"black\"/>\n",
       "<text font-family=\"Times,serif\" font-size=\"14.00\" text-anchor=\"middle\" x=\"221.528\" y=\"-191.3\">input:</text>\n",
       "<polyline fill=\"none\" points=\"193.693,-184.5 249.362,-184.5 \" stroke=\"black\"/>\n",
       "<text font-family=\"Times,serif\" font-size=\"14.00\" text-anchor=\"middle\" x=\"221.528\" y=\"-169.3\">output:</text>\n",
       "<polyline fill=\"none\" points=\"249.362,-162.5 249.362,-206.5 \" stroke=\"black\"/>\n",
       "<text font-family=\"Times,serif\" font-size=\"14.00\" text-anchor=\"middle\" x=\"291.187\" y=\"-191.3\">(None, 1)</text>\n",
       "<polyline fill=\"none\" points=\"249.362,-184.5 333.011,-184.5 \" stroke=\"black\"/>\n",
       "<text font-family=\"Times,serif\" font-size=\"14.00\" text-anchor=\"middle\" x=\"291.187\" y=\"-169.3\">(None, 1, 3)</text>\n",
       "</g>\n",
       "<!-- 4716334832&#45;&gt;4716334944 -->\n",
       "<g class=\"edge\" id=\"edge1\"><title>4716334832-&gt;4716334944</title>\n",
       "<path d=\"M166.505,-243.329C166.505,-235.183 166.505,-225.699 166.505,-216.797\" fill=\"none\" stroke=\"black\"/>\n",
       "<polygon fill=\"black\" points=\"170.005,-216.729 166.505,-206.729 163.005,-216.729 170.005,-216.729\" stroke=\"black\"/>\n",
       "</g>\n",
       "<!-- 4716201800 -->\n",
       "<g class=\"node\" id=\"node2\"><title>4716201800</title>\n",
       "<polygon fill=\"none\" points=\"393.838,-243.5 393.838,-287.5 631.173,-287.5 631.173,-243.5 393.838,-243.5\" stroke=\"black\"/>\n",
       "<text font-family=\"Times,serif\" font-size=\"14.00\" text-anchor=\"middle\" x=\"449.847\" y=\"-261.3\">User: InputLayer</text>\n",
       "<polyline fill=\"none\" points=\"505.855,-243.5 505.855,-287.5 \" stroke=\"black\"/>\n",
       "<text font-family=\"Times,serif\" font-size=\"14.00\" text-anchor=\"middle\" x=\"533.69\" y=\"-272.3\">input:</text>\n",
       "<polyline fill=\"none\" points=\"505.855,-265.5 561.524,-265.5 \" stroke=\"black\"/>\n",
       "<text font-family=\"Times,serif\" font-size=\"14.00\" text-anchor=\"middle\" x=\"533.69\" y=\"-250.3\">output:</text>\n",
       "<polyline fill=\"none\" points=\"561.524,-243.5 561.524,-287.5 \" stroke=\"black\"/>\n",
       "<text font-family=\"Times,serif\" font-size=\"14.00\" text-anchor=\"middle\" x=\"596.349\" y=\"-272.3\">(None, 1)</text>\n",
       "<polyline fill=\"none\" points=\"561.524,-265.5 631.173,-265.5 \" stroke=\"black\"/>\n",
       "<text font-family=\"Times,serif\" font-size=\"14.00\" text-anchor=\"middle\" x=\"596.349\" y=\"-250.3\">(None, 1)</text>\n",
       "</g>\n",
       "<!-- 4716290512 -->\n",
       "<g class=\"node\" id=\"node4\"><title>4716290512</title>\n",
       "<polygon fill=\"none\" points=\"351.195,-162.5 351.195,-206.5 673.815,-206.5 673.815,-162.5 351.195,-162.5\" stroke=\"black\"/>\n",
       "<text font-family=\"Times,serif\" font-size=\"14.00\" text-anchor=\"middle\" x=\"442.847\" y=\"-180.3\">User-Embedding: Embedding</text>\n",
       "<polyline fill=\"none\" points=\"534.498,-162.5 534.498,-206.5 \" stroke=\"black\"/>\n",
       "<text font-family=\"Times,serif\" font-size=\"14.00\" text-anchor=\"middle\" x=\"562.333\" y=\"-191.3\">input:</text>\n",
       "<polyline fill=\"none\" points=\"534.498,-184.5 590.167,-184.5 \" stroke=\"black\"/>\n",
       "<text font-family=\"Times,serif\" font-size=\"14.00\" text-anchor=\"middle\" x=\"562.333\" y=\"-169.3\">output:</text>\n",
       "<polyline fill=\"none\" points=\"590.167,-162.5 590.167,-206.5 \" stroke=\"black\"/>\n",
       "<text font-family=\"Times,serif\" font-size=\"14.00\" text-anchor=\"middle\" x=\"631.991\" y=\"-191.3\">(None, 1)</text>\n",
       "<polyline fill=\"none\" points=\"590.167,-184.5 673.815,-184.5 \" stroke=\"black\"/>\n",
       "<text font-family=\"Times,serif\" font-size=\"14.00\" text-anchor=\"middle\" x=\"631.991\" y=\"-169.3\">(None, 1, 3)</text>\n",
       "</g>\n",
       "<!-- 4716201800&#45;&gt;4716290512 -->\n",
       "<g class=\"edge\" id=\"edge2\"><title>4716201800-&gt;4716290512</title>\n",
       "<path d=\"M512.505,-243.329C512.505,-235.183 512.505,-225.699 512.505,-216.797\" fill=\"none\" stroke=\"black\"/>\n",
       "<polygon fill=\"black\" points=\"516.005,-216.729 512.505,-206.729 509.005,-216.729 516.005,-216.729\" stroke=\"black\"/>\n",
       "</g>\n",
       "<!-- 4653571096 -->\n",
       "<g class=\"node\" id=\"node5\"><title>4653571096</title>\n",
       "<polygon fill=\"none\" points=\"50.269,-81.5 50.269,-125.5 332.742,-125.5 332.742,-81.5 50.269,-81.5\" stroke=\"black\"/>\n",
       "<text font-family=\"Times,serif\" font-size=\"14.00\" text-anchor=\"middle\" x=\"121.847\" y=\"-99.3\">FlattenMovies: Flatten</text>\n",
       "<polyline fill=\"none\" points=\"193.424,-81.5 193.424,-125.5 \" stroke=\"black\"/>\n",
       "<text font-family=\"Times,serif\" font-size=\"14.00\" text-anchor=\"middle\" x=\"221.259\" y=\"-110.3\">input:</text>\n",
       "<polyline fill=\"none\" points=\"193.424,-103.5 249.093,-103.5 \" stroke=\"black\"/>\n",
       "<text font-family=\"Times,serif\" font-size=\"14.00\" text-anchor=\"middle\" x=\"221.259\" y=\"-88.3\">output:</text>\n",
       "<polyline fill=\"none\" points=\"249.093,-81.5 249.093,-125.5 \" stroke=\"black\"/>\n",
       "<text font-family=\"Times,serif\" font-size=\"14.00\" text-anchor=\"middle\" x=\"290.917\" y=\"-110.3\">(None, 1, 3)</text>\n",
       "<polyline fill=\"none\" points=\"249.093,-103.5 332.742,-103.5 \" stroke=\"black\"/>\n",
       "<text font-family=\"Times,serif\" font-size=\"14.00\" text-anchor=\"middle\" x=\"290.917\" y=\"-88.3\">(None, 3)</text>\n",
       "</g>\n",
       "<!-- 4716334944&#45;&gt;4653571096 -->\n",
       "<g class=\"edge\" id=\"edge3\"><title>4716334944-&gt;4653571096</title>\n",
       "<path d=\"M173.205,-162.329C175.811,-154.094 178.849,-144.493 181.693,-135.507\" fill=\"none\" stroke=\"black\"/>\n",
       "<polygon fill=\"black\" points=\"185.107,-136.319 184.787,-125.729 178.433,-134.207 185.107,-136.319\" stroke=\"black\"/>\n",
       "</g>\n",
       "<!-- 4716290960 -->\n",
       "<g class=\"node\" id=\"node6\"><title>4716290960</title>\n",
       "<polygon fill=\"none\" points=\"363.328,-81.5 363.328,-125.5 635.683,-125.5 635.683,-81.5 363.328,-81.5\" stroke=\"black\"/>\n",
       "<text font-family=\"Times,serif\" font-size=\"14.00\" text-anchor=\"middle\" x=\"429.847\" y=\"-99.3\">FlattenUsers: Flatten</text>\n",
       "<polyline fill=\"none\" points=\"496.366,-81.5 496.366,-125.5 \" stroke=\"black\"/>\n",
       "<text font-family=\"Times,serif\" font-size=\"14.00\" text-anchor=\"middle\" x=\"524.2\" y=\"-110.3\">input:</text>\n",
       "<polyline fill=\"none\" points=\"496.366,-103.5 552.035,-103.5 \" stroke=\"black\"/>\n",
       "<text font-family=\"Times,serif\" font-size=\"14.00\" text-anchor=\"middle\" x=\"524.2\" y=\"-88.3\">output:</text>\n",
       "<polyline fill=\"none\" points=\"552.035,-81.5 552.035,-125.5 \" stroke=\"black\"/>\n",
       "<text font-family=\"Times,serif\" font-size=\"14.00\" text-anchor=\"middle\" x=\"593.859\" y=\"-110.3\">(None, 1, 3)</text>\n",
       "<polyline fill=\"none\" points=\"552.035,-103.5 635.683,-103.5 \" stroke=\"black\"/>\n",
       "<text font-family=\"Times,serif\" font-size=\"14.00\" text-anchor=\"middle\" x=\"593.859\" y=\"-88.3\">(None, 3)</text>\n",
       "</g>\n",
       "<!-- 4716290512&#45;&gt;4716290960 -->\n",
       "<g class=\"edge\" id=\"edge4\"><title>4716290512-&gt;4716290960</title>\n",
       "<path d=\"M509.022,-162.329C507.681,-154.183 506.12,-144.699 504.656,-135.797\" fill=\"none\" stroke=\"black\"/>\n",
       "<polygon fill=\"black\" points=\"508.076,-135.028 502.999,-125.729 501.169,-136.165 508.076,-135.028\" stroke=\"black\"/>\n",
       "</g>\n",
       "<!-- 4716290736 -->\n",
       "<g class=\"node\" id=\"node7\"><title>4716290736</title>\n",
       "<polygon fill=\"none\" points=\"185.744,-0.5 185.744,-44.5 505.267,-44.5 505.267,-0.5 185.744,-0.5\" stroke=\"black\"/>\n",
       "<text font-family=\"Times,serif\" font-size=\"14.00\" text-anchor=\"middle\" x=\"247.86\" y=\"-18.3\">DotProduct: Merge</text>\n",
       "<polyline fill=\"none\" points=\"309.977,-0.5 309.977,-44.5 \" stroke=\"black\"/>\n",
       "<text font-family=\"Times,serif\" font-size=\"14.00\" text-anchor=\"middle\" x=\"337.812\" y=\"-29.3\">input:</text>\n",
       "<polyline fill=\"none\" points=\"309.977,-22.5 365.646,-22.5 \" stroke=\"black\"/>\n",
       "<text font-family=\"Times,serif\" font-size=\"14.00\" text-anchor=\"middle\" x=\"337.812\" y=\"-7.3\">output:</text>\n",
       "<polyline fill=\"none\" points=\"365.646,-0.5 365.646,-44.5 \" stroke=\"black\"/>\n",
       "<text font-family=\"Times,serif\" font-size=\"14.00\" text-anchor=\"middle\" x=\"435.457\" y=\"-29.3\">[(None, 3), (None, 3)]</text>\n",
       "<polyline fill=\"none\" points=\"365.646,-22.5 505.267,-22.5 \" stroke=\"black\"/>\n",
       "<text font-family=\"Times,serif\" font-size=\"14.00\" text-anchor=\"middle\" x=\"434.97\" y=\"-7.3\">(None, 1)</text>\n",
       "</g>\n",
       "<!-- 4653571096&#45;&gt;4716290736 -->\n",
       "<g class=\"edge\" id=\"edge5\"><title>4653571096-&gt;4716290736</title>\n",
       "<path d=\"M232.775,-81.3294C252.013,-71.4605 275.075,-59.63 295.313,-49.2479\" fill=\"none\" stroke=\"black\"/>\n",
       "<polygon fill=\"black\" points=\"297.089,-52.2704 304.39,-44.5919 293.894,-46.0421 297.089,-52.2704\" stroke=\"black\"/>\n",
       "</g>\n",
       "<!-- 4716290960&#45;&gt;4716290736 -->\n",
       "<g class=\"edge\" id=\"edge6\"><title>4716290960-&gt;4716290736</title>\n",
       "<path d=\"M458.236,-81.3294C438.998,-71.4605 415.936,-59.63 395.697,-49.2479\" fill=\"none\" stroke=\"black\"/>\n",
       "<polygon fill=\"black\" points=\"397.116,-46.0421 386.621,-44.5919 393.921,-52.2704 397.116,-46.0421\" stroke=\"black\"/>\n",
       "</g>\n",
       "</g>\n",
       "</svg>"
      ],
      "text/plain": [
       "<IPython.core.display.SVG object>"
      ]
     },
     "execution_count": 12,
     "metadata": {},
     "output_type": "execute_result"
    }
   ],
   "source": [
    "SVG(model_to_dot(model,  show_shapes=True, show_layer_names=True, rankdir='HB').create(prog='dot', format='svg'))"
   ]
  },
  {
   "cell_type": "markdown",
   "metadata": {},
   "source": [
    "We can see that in the `Merge` layer, we take the dot product of the user and the item embeddings to obtain the rating.\n",
    "\n",
    "We can also summarise our model as follows:"
   ]
  },
  {
   "cell_type": "code",
   "execution_count": 13,
   "metadata": {},
   "outputs": [
    {
     "name": "stdout",
     "output_type": "stream",
     "text": [
      "__________________________________________________________________________________________________\n",
      "Layer (type)                    Output Shape         Param #     Connected to                     \n",
      "==================================================================================================\n",
      "Item (InputLayer)               (None, 1)            0                                            \n",
      "__________________________________________________________________________________________________\n",
      "User (InputLayer)               (None, 1)            0                                            \n",
      "__________________________________________________________________________________________________\n",
      "Movie-Embedding (Embedding)     (None, 1, 3)         5049        Item[0][0]                       \n",
      "__________________________________________________________________________________________________\n",
      "User-Embedding (Embedding)      (None, 1, 3)         2832        User[0][0]                       \n",
      "__________________________________________________________________________________________________\n",
      "FlattenMovies (Flatten)         (None, 3)            0           Movie-Embedding[0][0]            \n",
      "__________________________________________________________________________________________________\n",
      "FlattenUsers (Flatten)          (None, 3)            0           User-Embedding[0][0]             \n",
      "__________________________________________________________________________________________________\n",
      "DotProduct (Merge)              (None, 1)            0           FlattenMovies[0][0]              \n",
      "                                                                 FlattenUsers[0][0]               \n",
      "==================================================================================================\n",
      "Total params: 7,881\n",
      "Trainable params: 7,881\n",
      "Non-trainable params: 0\n",
      "__________________________________________________________________________________________________\n"
     ]
    }
   ],
   "source": [
    "model.summary()"
   ]
  },
  {
   "cell_type": "markdown",
   "metadata": {},
   "source": [
    "So, we have 7881 parameters to learn! Let's train our model now!"
   ]
  },
  {
   "cell_type": "code",
   "execution_count": 14,
   "metadata": {},
   "outputs": [],
   "source": [
    "history = model.fit([train.user_id, train.item_id], train.rating, epochs=100, verbose=0)"
   ]
  },
  {
   "cell_type": "markdown",
   "metadata": {},
   "source": [
    "#### Train error v/s epoch number"
   ]
  },
  {
   "cell_type": "markdown",
   "metadata": {},
   "source": [
    "Before we test how well our model does in the test setting, we can visualise the train loss with epoch number."
   ]
  },
  {
   "cell_type": "code",
   "execution_count": 19,
   "metadata": {},
   "outputs": [
    {
     "data": {
      "text/plain": [
       "<matplotlib.text.Text at 0x1a26fb66a0>"
      ]
     },
     "execution_count": 19,
     "metadata": {},
     "output_type": "execute_result"
    },
    {
     "data": {
      "image/png": "[encoded data removed]",
      "text/plain": [
       "<matplotlib.figure.Figure at 0x1a26f7cac8>"
      ]
     },
     "metadata": {},
     "output_type": "display_data"
    }
   ],
   "source": [
    "pd.Series(history.history['loss']).plot(logy=True)\n",
    "plt.xlabel(\"Epoch\")\n",
    "plt.ylabel(\"Train Error\")"
   ]
  },
  {
   "cell_type": "markdown",
   "metadata": {},
   "source": [
    "#### Prediction error"
   ]
  },
  {
   "cell_type": "markdown",
   "metadata": {},
   "source": [
    "Let's now see how our model does! I'll do a small post-processing step to round off our prediction to the nearest integer. This is usually not done, and thus just a whimsical step, since the training ratings are all integers! There are better ways to encode this intger requirement (one-hot encoding!), but we won't discuss them in this post."
   ]
  },
  {
   "cell_type": "code",
   "execution_count": 21,
   "metadata": {},
   "outputs": [],
   "source": [
    "y_hat = np.round(model.predict([test.user_id, test.item_id]),0)\n",
    "y_true = test.rating"
   ]
  },
  {
   "cell_type": "code",
   "execution_count": 22,
   "metadata": {},
   "outputs": [
    {
     "data": {
      "text/plain": [
       "0.68754999999999999"
      ]
     },
     "execution_count": 22,
     "metadata": {},
     "output_type": "execute_result"
    }
   ],
   "source": [
    "from sklearn.metrics import mean_absolute_error\n",
    "mean_absolute_error(y_true, y_hat)"
   ]
  },
  {
   "cell_type": "markdown",
   "metadata": {},
   "source": [
    "Not bad! We're able to get a $MAE$ of 0.69! I'm sure with a bit of parameter/hyper-parameter optimisation, we may be able to improve the results. However, I won't talk about these optimisations in this post. "
   ]
  },
  {
   "cell_type": "markdown",
   "metadata": {},
   "source": [
    "#### Extracting the learnt embeddings"
   ]
  },
  {
   "cell_type": "markdown",
   "metadata": {},
   "source": [
    "We can extract the learnt movie and item embeddings as follows:"
   ]
  },
  {
   "cell_type": "code",
   "execution_count": 24,
   "metadata": {},
   "outputs": [
    {
     "data": {
      "text/html": [
       "<div>\n",
       "<style>\n",
       "    .dataframe thead tr:only-child th {\n",
       "        text-align: right;\n",
       "    }\n",
       "\n",
       "    .dataframe thead th {\n",
       "        text-align: left;\n",
       "    }\n",
       "\n",
       "    .dataframe tbody tr th {\n",
       "        vertical-align: top;\n",
       "    }\n",
       "</style>\n",
       "<table border=\"1\" class=\"dataframe\">\n",
       "  <thead>\n",
       "    <tr style=\"text-align: right;\">\n",
       "      <th></th>\n",
       "      <th>0</th>\n",
       "      <th>1</th>\n",
       "      <th>2</th>\n",
       "    </tr>\n",
       "  </thead>\n",
       "  <tbody>\n",
       "    <tr>\n",
       "      <th>count</th>\n",
       "      <td>1683.000000</td>\n",
       "      <td>1683.000000</td>\n",
       "      <td>1683.000000</td>\n",
       "    </tr>\n",
       "    <tr>\n",
       "      <th>mean</th>\n",
       "      <td>0.912885</td>\n",
       "      <td>0.853251</td>\n",
       "      <td>-0.989291</td>\n",
       "    </tr>\n",
       "    <tr>\n",
       "      <th>std</th>\n",
       "      <td>0.561965</td>\n",
       "      <td>0.452911</td>\n",
       "      <td>0.407488</td>\n",
       "    </tr>\n",
       "    <tr>\n",
       "      <th>min</th>\n",
       "      <td>-1.273091</td>\n",
       "      <td>-1.075208</td>\n",
       "      <td>-2.364467</td>\n",
       "    </tr>\n",
       "    <tr>\n",
       "      <th>25%</th>\n",
       "      <td>0.499577</td>\n",
       "      <td>0.532220</td>\n",
       "      <td>-1.269455</td>\n",
       "    </tr>\n",
       "    <tr>\n",
       "      <th>50%</th>\n",
       "      <td>0.922570</td>\n",
       "      <td>0.808850</td>\n",
       "      <td>-1.001768</td>\n",
       "    </tr>\n",
       "    <tr>\n",
       "      <th>75%</th>\n",
       "      <td>1.349954</td>\n",
       "      <td>1.160062</td>\n",
       "      <td>-0.725322</td>\n",
       "    </tr>\n",
       "    <tr>\n",
       "      <th>max</th>\n",
       "      <td>3.021444</td>\n",
       "      <td>2.256882</td>\n",
       "      <td>0.540868</td>\n",
       "    </tr>\n",
       "  </tbody>\n",
       "</table>\n",
       "</div>"
      ],
      "text/plain": [
       "                 0            1            2\n",
       "count  1683.000000  1683.000000  1683.000000\n",
       "mean      0.912885     0.853251    -0.989291\n",
       "std       0.561965     0.452911     0.407488\n",
       "min      -1.273091    -1.075208    -2.364467\n",
       "25%       0.499577     0.532220    -1.269455\n",
       "50%       0.922570     0.808850    -1.001768\n",
       "75%       1.349954     1.160062    -0.725322\n",
       "max       3.021444     2.256882     0.540868"
      ]
     },
     "execution_count": 24,
     "metadata": {},
     "output_type": "execute_result"
    }
   ],
   "source": [
    "movie_embedding_learnt = model.get_layer(name='Movie-Embedding').get_weights()[0]\n",
    "pd.DataFrame(movie_embedding_learnt).describe()"
   ]
  },
  {
   "cell_type": "code",
   "execution_count": 25,
   "metadata": {},
   "outputs": [
    {
     "data": {
      "text/html": [
       "<div>\n",
       "<style>\n",
       "    .dataframe thead tr:only-child th {\n",
       "        text-align: right;\n",
       "    }\n",
       "\n",
       "    .dataframe thead th {\n",
       "        text-align: left;\n",
       "    }\n",
       "\n",
       "    .dataframe tbody tr th {\n",
       "        vertical-align: top;\n",
       "    }\n",
       "</style>\n",
       "<table border=\"1\" class=\"dataframe\">\n",
       "  <thead>\n",
       "    <tr style=\"text-align: right;\">\n",
       "      <th></th>\n",
       "      <th>0</th>\n",
       "      <th>1</th>\n",
       "      <th>2</th>\n",
       "    </tr>\n",
       "  </thead>\n",
       "  <tbody>\n",
       "    <tr>\n",
       "      <th>count</th>\n",
       "      <td>944.000000</td>\n",
       "      <td>944.000000</td>\n",
       "      <td>944.000000</td>\n",
       "    </tr>\n",
       "    <tr>\n",
       "      <th>mean</th>\n",
       "      <td>1.118651</td>\n",
       "      <td>1.186549</td>\n",
       "      <td>-1.098431</td>\n",
       "    </tr>\n",
       "    <tr>\n",
       "      <th>std</th>\n",
       "      <td>0.537899</td>\n",
       "      <td>0.419475</td>\n",
       "      <td>0.544597</td>\n",
       "    </tr>\n",
       "    <tr>\n",
       "      <th>min</th>\n",
       "      <td>-1.095650</td>\n",
       "      <td>-0.327198</td>\n",
       "      <td>-3.116111</td>\n",
       "    </tr>\n",
       "    <tr>\n",
       "      <th>25%</th>\n",
       "      <td>0.780569</td>\n",
       "      <td>0.956197</td>\n",
       "      <td>-1.436500</td>\n",
       "    </tr>\n",
       "    <tr>\n",
       "      <th>50%</th>\n",
       "      <td>1.152981</td>\n",
       "      <td>1.193803</td>\n",
       "      <td>-1.078698</td>\n",
       "    </tr>\n",
       "    <tr>\n",
       "      <th>75%</th>\n",
       "      <td>1.496086</td>\n",
       "      <td>1.450552</td>\n",
       "      <td>-0.730524</td>\n",
       "    </tr>\n",
       "    <tr>\n",
       "      <th>max</th>\n",
       "      <td>2.798949</td>\n",
       "      <td>2.641392</td>\n",
       "      <td>0.479444</td>\n",
       "    </tr>\n",
       "  </tbody>\n",
       "</table>\n",
       "</div>"
      ],
      "text/plain": [
       "                0           1           2\n",
       "count  944.000000  944.000000  944.000000\n",
       "mean     1.118651    1.186549   -1.098431\n",
       "std      0.537899    0.419475    0.544597\n",
       "min     -1.095650   -0.327198   -3.116111\n",
       "25%      0.780569    0.956197   -1.436500\n",
       "50%      1.152981    1.193803   -1.078698\n",
       "75%      1.496086    1.450552   -0.730524\n",
       "max      2.798949    2.641392    0.479444"
      ]
     },
     "execution_count": 25,
     "metadata": {},
     "output_type": "execute_result"
    }
   ],
   "source": [
    "user_embedding_learnt = model.get_layer(name='User-Embedding').get_weights()[0]\n",
    "pd.DataFrame(user_embedding_learnt).describe()"
   ]
  },
  {
   "cell_type": "markdown",
   "metadata": {},
   "source": [
    "We can see that both the user and the item embeddings have negative elements. There are some applications which require that the learnt embeddings be non-negative. This approach is also called non-negative matrix factorisation, which we'll workout now."
   ]
  },
  {
   "cell_type": "markdown",
   "metadata": {},
   "source": [
    "### Non-negative Matrix factorisation (NNMF) in Keras"
   ]
  },
  {
   "cell_type": "markdown",
   "metadata": {},
   "source": [
    "The code for NNMF remains exactly the same as the code for matrix factorisation. The only change is that we add `non-negativity` constraints on the learnt embeddings. This is done as follows:"
   ]
  },
  {
   "cell_type": "code",
   "execution_count": 26,
   "metadata": {
    "collapsed": true
   },
   "outputs": [],
   "source": [
    "from keras.constraints import non_neg\n",
    "movie_input = keras.layers.Input(shape=[1],name='Item')\n",
    "movie_embedding = keras.layers.Embedding(n_movies + 1, n_latent_factors, name='NonNegMovie-Embedding', embeddings_constraint=non_neg())(movie_input)\n",
    "movie_vec = keras.layers.Flatten(name='FlattenMovies')(movie_embedding)\n",
    "\n",
    "user_input = keras.layers.Input(shape=[1],name='User')\n",
    "user_vec = keras.layers.Flatten(name='FlattenUsers')(keras.layers.Embedding(n_users + 1, n_latent_factors,name='NonNegUser-Embedding',embeddings_constraint=non_neg())(user_input))\n",
    "\n",
    "prod = keras.layers.merge([movie_vec, user_vec], mode='dot',name='DotProduct')\n",
    "model = keras.Model([user_input, movie_input], prod)\n",
    "model.compile('adam', 'mean_squared_error')"
   ]
  },
  {
   "cell_type": "markdown",
   "metadata": {},
   "source": [
    "We now verify if we are indeed able to learn non-negative embeddings. I'll not compare the performance of NNMF on the test set, in the interest of space."
   ]
  },
  {
   "cell_type": "code",
   "execution_count": 27,
   "metadata": {
    "collapsed": true
   },
   "outputs": [],
   "source": [
    "history_nonneg = model.fit([train.user_id, train.item_id], train.rating, epochs=100, verbose=0)"
   ]
  },
  {
   "cell_type": "code",
   "execution_count": 29,
   "metadata": {},
   "outputs": [
    {
     "data": {
      "text/html": [
       "<div>\n",
       "<style>\n",
       "    .dataframe thead tr:only-child th {\n",
       "        text-align: right;\n",
       "    }\n",
       "\n",
       "    .dataframe thead th {\n",
       "        text-align: left;\n",
       "    }\n",
       "\n",
       "    .dataframe tbody tr th {\n",
       "        vertical-align: top;\n",
       "    }\n",
       "</style>\n",
       "<table border=\"1\" class=\"dataframe\">\n",
       "  <thead>\n",
       "    <tr style=\"text-align: right;\">\n",
       "      <th></th>\n",
       "      <th>0</th>\n",
       "      <th>1</th>\n",
       "      <th>2</th>\n",
       "    </tr>\n",
       "  </thead>\n",
       "  <tbody>\n",
       "    <tr>\n",
       "      <th>count</th>\n",
       "      <td>1683.000000</td>\n",
       "      <td>1683.000000</td>\n",
       "      <td>1683.000000</td>\n",
       "    </tr>\n",
       "    <tr>\n",
       "      <th>mean</th>\n",
       "      <td>1.011195</td>\n",
       "      <td>0.863916</td>\n",
       "      <td>0.868112</td>\n",
       "    </tr>\n",
       "    <tr>\n",
       "      <th>std</th>\n",
       "      <td>0.436693</td>\n",
       "      <td>0.511042</td>\n",
       "      <td>0.438383</td>\n",
       "    </tr>\n",
       "    <tr>\n",
       "      <th>min</th>\n",
       "      <td>-0.000000</td>\n",
       "      <td>-0.000000</td>\n",
       "      <td>-0.000000</td>\n",
       "    </tr>\n",
       "    <tr>\n",
       "      <th>25%</th>\n",
       "      <td>0.734240</td>\n",
       "      <td>0.461567</td>\n",
       "      <td>0.528087</td>\n",
       "    </tr>\n",
       "    <tr>\n",
       "      <th>50%</th>\n",
       "      <td>1.014148</td>\n",
       "      <td>0.860229</td>\n",
       "      <td>0.862545</td>\n",
       "    </tr>\n",
       "    <tr>\n",
       "      <th>75%</th>\n",
       "      <td>1.279842</td>\n",
       "      <td>1.264946</td>\n",
       "      <td>1.178649</td>\n",
       "    </tr>\n",
       "    <tr>\n",
       "      <th>max</th>\n",
       "      <td>2.807231</td>\n",
       "      <td>2.372965</td>\n",
       "      <td>2.838957</td>\n",
       "    </tr>\n",
       "  </tbody>\n",
       "</table>\n",
       "</div>"
      ],
      "text/plain": [
       "                 0            1            2\n",
       "count  1683.000000  1683.000000  1683.000000\n",
       "mean      1.011195     0.863916     0.868112\n",
       "std       0.436693     0.511042     0.438383\n",
       "min      -0.000000    -0.000000    -0.000000\n",
       "25%       0.734240     0.461567     0.528087\n",
       "50%       1.014148     0.860229     0.862545\n",
       "75%       1.279842     1.264946     1.178649\n",
       "max       2.807231     2.372965     2.838957"
      ]
     },
     "execution_count": 29,
     "metadata": {},
     "output_type": "execute_result"
    }
   ],
   "source": [
    "movie_embedding_learnt = model.get_layer(name='NonNegMovie-Embedding').get_weights()[0]\n",
    "pd.DataFrame(movie_embedding_learnt).describe()"
   ]
  },
  {
   "cell_type": "markdown",
   "metadata": {},
   "source": [
    "Looks good!"
   ]
  },
  {
   "cell_type": "markdown",
   "metadata": {},
   "source": [
    "### Neural networks for recommendation\n",
    "\n",
    "We'll now create a simple neural network for recommendation, or for estimating rating! This model is very similar to the earlier matrix factorisation models, but differs in the following ways:\n",
    "\n",
    "1. Instead of taking a dot product of the user and the item embedding, we concatenate them and use them as features for our neural network. Thus, we are not constrained to the dot product way of combining the embeddings, and can learn complex non-linear relationships.\n",
    "2. Due to #1, we can now have a different dimension of user and item embeddings. This can be useful if one dimension is larger than the other."
   ]
  },
  {
   "cell_type": "code",
   "execution_count": 38,
   "metadata": {},
   "outputs": [],
   "source": [
    "n_latent_factors_user = 3\n",
    "n_latent_factors_movie = 5\n",
    "\n",
    "movie_input = keras.layers.Input(shape=[1],name='Item')\n",
    "movie_embedding = keras.layers.Embedding(n_movies + 1, n_latent_factors_movie, name='Movie-Embedding')(movie_input)\n",
    "movie_vec = keras.layers.Flatten(name='FlattenMovies')(movie_embedding)\n",
    "\n",
    "user_input = keras.layers.Input(shape=[1],name='User')\n",
    "user_vec = keras.layers.Flatten(name='FlattenUsers')(keras.layers.Embedding(n_users + 1, n_latent_factors_user,name='User-Embedding')(user_input))\n",
    "\n",
    "\n",
    "concat = keras.layers.merge([movie_vec, user_vec], mode='concat',name='Concat')\n",
    "dense = keras.layers.Dense(100,name='FullyConnected')(concat)\n",
    "dropout = keras.layers.Dropout(0.2,name='Dropout')\n",
    "result = keras.layers.Dense(1, activation='linear',name='Activation')(dense)\n",
    "\n",
    "model = keras.Model([user_input, movie_input], result)\n",
    "model.compile('adam', 'mean_squared_error')"
   ]
  },
  {
   "cell_type": "markdown",
   "metadata": {},
   "source": [
    "Let's now see how our model looks like:"
   ]
  },
  {
   "cell_type": "code",
   "execution_count": 39,
   "metadata": {},
   "outputs": [
    {
     "data": {
      "image/svg+xml": [
       "<svg height=\"458pt\" viewBox=\"0.00 0.00 681.82 458.00\" width=\"682pt\" xmlns=\"http://www.w3.org/2000/svg\" xmlns:xlink=\"http://www.w3.org/1999/xlink\">\n",
       "<g class=\"graph\" id=\"graph0\" transform=\"scale(1 1) rotate(0) translate(4 454)\">\n",
       "<title>G</title>\n",
       "<polygon fill=\"white\" points=\"-4,4 -4,-454 677.815,-454 677.815,4 -4,4\" stroke=\"none\"/>\n",
       "<!-- 112451573296 -->\n",
       "<g class=\"node\" id=\"node1\"><title>112451573296</title>\n",
       "<polygon fill=\"none\" points=\"48.2275,-405.5 48.2275,-449.5 284.783,-449.5 284.783,-405.5 48.2275,-405.5\" stroke=\"black\"/>\n",
       "<text font-family=\"Times,serif\" font-size=\"14.00\" text-anchor=\"middle\" x=\"103.847\" y=\"-423.3\">Item: InputLayer</text>\n",
       "<polyline fill=\"none\" points=\"159.466,-405.5 159.466,-449.5 \" stroke=\"black\"/>\n",
       "<text font-family=\"Times,serif\" font-size=\"14.00\" text-anchor=\"middle\" x=\"187.3\" y=\"-434.3\">input:</text>\n",
       "<polyline fill=\"none\" points=\"159.466,-427.5 215.135,-427.5 \" stroke=\"black\"/>\n",
       "<text font-family=\"Times,serif\" font-size=\"14.00\" text-anchor=\"middle\" x=\"187.3\" y=\"-412.3\">output:</text>\n",
       "<polyline fill=\"none\" points=\"215.135,-405.5 215.135,-449.5 \" stroke=\"black\"/>\n",
       "<text font-family=\"Times,serif\" font-size=\"14.00\" text-anchor=\"middle\" x=\"249.959\" y=\"-434.3\">(None, 1)</text>\n",
       "<polyline fill=\"none\" points=\"215.135,-427.5 284.783,-427.5 \" stroke=\"black\"/>\n",
       "<text font-family=\"Times,serif\" font-size=\"14.00\" text-anchor=\"middle\" x=\"249.959\" y=\"-412.3\">(None, 1)</text>\n",
       "</g>\n",
       "<!-- 112451573408 -->\n",
       "<g class=\"node\" id=\"node3\"><title>112451573408</title>\n",
       "<polygon fill=\"none\" points=\"0,-324.5 0,-368.5 333.011,-368.5 333.011,-324.5 0,-324.5\" stroke=\"black\"/>\n",
       "<text font-family=\"Times,serif\" font-size=\"14.00\" text-anchor=\"middle\" x=\"96.8467\" y=\"-342.3\">Movie-Embedding: Embedding</text>\n",
       "<polyline fill=\"none\" points=\"193.693,-324.5 193.693,-368.5 \" stroke=\"black\"/>\n",
       "<text font-family=\"Times,serif\" font-size=\"14.00\" text-anchor=\"middle\" x=\"221.528\" y=\"-353.3\">input:</text>\n",
       "<polyline fill=\"none\" points=\"193.693,-346.5 249.362,-346.5 \" stroke=\"black\"/>\n",
       "<text font-family=\"Times,serif\" font-size=\"14.00\" text-anchor=\"middle\" x=\"221.528\" y=\"-331.3\">output:</text>\n",
       "<polyline fill=\"none\" points=\"249.362,-324.5 249.362,-368.5 \" stroke=\"black\"/>\n",
       "<text font-family=\"Times,serif\" font-size=\"14.00\" text-anchor=\"middle\" x=\"291.187\" y=\"-353.3\">(None, 1)</text>\n",
       "<polyline fill=\"none\" points=\"249.362,-346.5 333.011,-346.5 \" stroke=\"black\"/>\n",
       "<text font-family=\"Times,serif\" font-size=\"14.00\" text-anchor=\"middle\" x=\"291.187\" y=\"-331.3\">(None, 1, 5)</text>\n",
       "</g>\n",
       "<!-- 112451573296&#45;&gt;112451573408 -->\n",
       "<g class=\"edge\" id=\"edge1\"><title>112451573296-&gt;112451573408</title>\n",
       "<path d=\"M166.505,-405.329C166.505,-397.183 166.505,-387.699 166.505,-378.797\" fill=\"none\" stroke=\"black\"/>\n",
       "<polygon fill=\"black\" points=\"170.005,-378.729 166.505,-368.729 163.005,-378.729 170.005,-378.729\" stroke=\"black\"/>\n",
       "</g>\n",
       "<!-- 112451585360 -->\n",
       "<g class=\"node\" id=\"node2\"><title>112451585360</title>\n",
       "<polygon fill=\"none\" points=\"393.838,-405.5 393.838,-449.5 631.173,-449.5 631.173,-405.5 393.838,-405.5\" stroke=\"black\"/>\n",
       "<text font-family=\"Times,serif\" font-size=\"14.00\" text-anchor=\"middle\" x=\"449.847\" y=\"-423.3\">User: InputLayer</text>\n",
       "<polyline fill=\"none\" points=\"505.855,-405.5 505.855,-449.5 \" stroke=\"black\"/>\n",
       "<text font-family=\"Times,serif\" font-size=\"14.00\" text-anchor=\"middle\" x=\"533.69\" y=\"-434.3\">input:</text>\n",
       "<polyline fill=\"none\" points=\"505.855,-427.5 561.524,-427.5 \" stroke=\"black\"/>\n",
       "<text font-family=\"Times,serif\" font-size=\"14.00\" text-anchor=\"middle\" x=\"533.69\" y=\"-412.3\">output:</text>\n",
       "<polyline fill=\"none\" points=\"561.524,-405.5 561.524,-449.5 \" stroke=\"black\"/>\n",
       "<text font-family=\"Times,serif\" font-size=\"14.00\" text-anchor=\"middle\" x=\"596.349\" y=\"-434.3\">(None, 1)</text>\n",
       "<polyline fill=\"none\" points=\"561.524,-427.5 631.173,-427.5 \" stroke=\"black\"/>\n",
       "<text font-family=\"Times,serif\" font-size=\"14.00\" text-anchor=\"middle\" x=\"596.349\" y=\"-412.3\">(None, 1)</text>\n",
       "</g>\n",
       "<!-- 112451573912 -->\n",
       "<g class=\"node\" id=\"node4\"><title>112451573912</title>\n",
       "<polygon fill=\"none\" points=\"351.195,-324.5 351.195,-368.5 673.815,-368.5 673.815,-324.5 351.195,-324.5\" stroke=\"black\"/>\n",
       "<text font-family=\"Times,serif\" font-size=\"14.00\" text-anchor=\"middle\" x=\"442.847\" y=\"-342.3\">User-Embedding: Embedding</text>\n",
       "<polyline fill=\"none\" points=\"534.498,-324.5 534.498,-368.5 \" stroke=\"black\"/>\n",
       "<text font-family=\"Times,serif\" font-size=\"14.00\" text-anchor=\"middle\" x=\"562.333\" y=\"-353.3\">input:</text>\n",
       "<polyline fill=\"none\" points=\"534.498,-346.5 590.167,-346.5 \" stroke=\"black\"/>\n",
       "<text font-family=\"Times,serif\" font-size=\"14.00\" text-anchor=\"middle\" x=\"562.333\" y=\"-331.3\">output:</text>\n",
       "<polyline fill=\"none\" points=\"590.167,-324.5 590.167,-368.5 \" stroke=\"black\"/>\n",
       "<text font-family=\"Times,serif\" font-size=\"14.00\" text-anchor=\"middle\" x=\"631.991\" y=\"-353.3\">(None, 1)</text>\n",
       "<polyline fill=\"none\" points=\"590.167,-346.5 673.815,-346.5 \" stroke=\"black\"/>\n",
       "<text font-family=\"Times,serif\" font-size=\"14.00\" text-anchor=\"middle\" x=\"631.991\" y=\"-331.3\">(None, 1, 3)</text>\n",
       "</g>\n",
       "<!-- 112451585360&#45;&gt;112451573912 -->\n",
       "<g class=\"edge\" id=\"edge2\"><title>112451585360-&gt;112451573912</title>\n",
       "<path d=\"M512.505,-405.329C512.505,-397.183 512.505,-387.699 512.505,-378.797\" fill=\"none\" stroke=\"black\"/>\n",
       "<polygon fill=\"black\" points=\"516.005,-378.729 512.505,-368.729 509.005,-378.729 516.005,-378.729\" stroke=\"black\"/>\n",
       "</g>\n",
       "<!-- 112451585472 -->\n",
       "<g class=\"node\" id=\"node5\"><title>112451585472</title>\n",
       "<polygon fill=\"none\" points=\"50.269,-243.5 50.269,-287.5 332.742,-287.5 332.742,-243.5 50.269,-243.5\" stroke=\"black\"/>\n",
       "<text font-family=\"Times,serif\" font-size=\"14.00\" text-anchor=\"middle\" x=\"121.847\" y=\"-261.3\">FlattenMovies: Flatten</text>\n",
       "<polyline fill=\"none\" points=\"193.424,-243.5 193.424,-287.5 \" stroke=\"black\"/>\n",
       "<text font-family=\"Times,serif\" font-size=\"14.00\" text-anchor=\"middle\" x=\"221.259\" y=\"-272.3\">input:</text>\n",
       "<polyline fill=\"none\" points=\"193.424,-265.5 249.093,-265.5 \" stroke=\"black\"/>\n",
       "<text font-family=\"Times,serif\" font-size=\"14.00\" text-anchor=\"middle\" x=\"221.259\" y=\"-250.3\">output:</text>\n",
       "<polyline fill=\"none\" points=\"249.093,-243.5 249.093,-287.5 \" stroke=\"black\"/>\n",
       "<text font-family=\"Times,serif\" font-size=\"14.00\" text-anchor=\"middle\" x=\"290.917\" y=\"-272.3\">(None, 1, 5)</text>\n",
       "<polyline fill=\"none\" points=\"249.093,-265.5 332.742,-265.5 \" stroke=\"black\"/>\n",
       "<text font-family=\"Times,serif\" font-size=\"14.00\" text-anchor=\"middle\" x=\"290.917\" y=\"-250.3\">(None, 5)</text>\n",
       "</g>\n",
       "<!-- 112451573408&#45;&gt;112451585472 -->\n",
       "<g class=\"edge\" id=\"edge3\"><title>112451573408-&gt;112451585472</title>\n",
       "<path d=\"M173.205,-324.329C175.811,-316.094 178.849,-306.493 181.693,-297.507\" fill=\"none\" stroke=\"black\"/>\n",
       "<polygon fill=\"black\" points=\"185.107,-298.319 184.787,-287.729 178.433,-296.207 185.107,-298.319\" stroke=\"black\"/>\n",
       "</g>\n",
       "<!-- 112450303312 -->\n",
       "<g class=\"node\" id=\"node6\"><title>112450303312</title>\n",
       "<polygon fill=\"none\" points=\"363.328,-243.5 363.328,-287.5 635.683,-287.5 635.683,-243.5 363.328,-243.5\" stroke=\"black\"/>\n",
       "<text font-family=\"Times,serif\" font-size=\"14.00\" text-anchor=\"middle\" x=\"429.847\" y=\"-261.3\">FlattenUsers: Flatten</text>\n",
       "<polyline fill=\"none\" points=\"496.366,-243.5 496.366,-287.5 \" stroke=\"black\"/>\n",
       "<text font-family=\"Times,serif\" font-size=\"14.00\" text-anchor=\"middle\" x=\"524.2\" y=\"-272.3\">input:</text>\n",
       "<polyline fill=\"none\" points=\"496.366,-265.5 552.035,-265.5 \" stroke=\"black\"/>\n",
       "<text font-family=\"Times,serif\" font-size=\"14.00\" text-anchor=\"middle\" x=\"524.2\" y=\"-250.3\">output:</text>\n",
       "<polyline fill=\"none\" points=\"552.035,-243.5 552.035,-287.5 \" stroke=\"black\"/>\n",
       "<text font-family=\"Times,serif\" font-size=\"14.00\" text-anchor=\"middle\" x=\"593.859\" y=\"-272.3\">(None, 1, 3)</text>\n",
       "<polyline fill=\"none\" points=\"552.035,-265.5 635.683,-265.5 \" stroke=\"black\"/>\n",
       "<text font-family=\"Times,serif\" font-size=\"14.00\" text-anchor=\"middle\" x=\"593.859\" y=\"-250.3\">(None, 3)</text>\n",
       "</g>\n",
       "<!-- 112451573912&#45;&gt;112450303312 -->\n",
       "<g class=\"edge\" id=\"edge4\"><title>112451573912-&gt;112450303312</title>\n",
       "<path d=\"M509.022,-324.329C507.681,-316.183 506.12,-306.699 504.656,-297.797\" fill=\"none\" stroke=\"black\"/>\n",
       "<polygon fill=\"black\" points=\"508.076,-297.028 502.999,-287.729 501.169,-298.165 508.076,-297.028\" stroke=\"black\"/>\n",
       "</g>\n",
       "<!-- 112453191888 -->\n",
       "<g class=\"node\" id=\"node7\"><title>112453191888</title>\n",
       "<polygon fill=\"none\" points=\"198.192,-162.5 198.192,-206.5 492.819,-206.5 492.819,-162.5 198.192,-162.5\" stroke=\"black\"/>\n",
       "<text font-family=\"Times,serif\" font-size=\"14.00\" text-anchor=\"middle\" x=\"247.86\" y=\"-180.3\">Concat: Merge</text>\n",
       "<polyline fill=\"none\" points=\"297.529,-162.5 297.529,-206.5 \" stroke=\"black\"/>\n",
       "<text font-family=\"Times,serif\" font-size=\"14.00\" text-anchor=\"middle\" x=\"325.363\" y=\"-191.3\">input:</text>\n",
       "<polyline fill=\"none\" points=\"297.529,-184.5 353.198,-184.5 \" stroke=\"black\"/>\n",
       "<text font-family=\"Times,serif\" font-size=\"14.00\" text-anchor=\"middle\" x=\"325.363\" y=\"-169.3\">output:</text>\n",
       "<polyline fill=\"none\" points=\"353.198,-162.5 353.198,-206.5 \" stroke=\"black\"/>\n",
       "<text font-family=\"Times,serif\" font-size=\"14.00\" text-anchor=\"middle\" x=\"423.008\" y=\"-191.3\">[(None, 5), (None, 3)]</text>\n",
       "<polyline fill=\"none\" points=\"353.198,-184.5 492.819,-184.5 \" stroke=\"black\"/>\n",
       "<text font-family=\"Times,serif\" font-size=\"14.00\" text-anchor=\"middle\" x=\"422.522\" y=\"-169.3\">(None, 8)</text>\n",
       "</g>\n",
       "<!-- 112451585472&#45;&gt;112453191888 -->\n",
       "<g class=\"edge\" id=\"edge5\"><title>112451585472-&gt;112453191888</title>\n",
       "<path d=\"M232.775,-243.329C252.013,-233.46 275.075,-221.63 295.313,-211.248\" fill=\"none\" stroke=\"black\"/>\n",
       "<polygon fill=\"black\" points=\"297.089,-214.27 304.39,-206.592 293.894,-208.042 297.089,-214.27\" stroke=\"black\"/>\n",
       "</g>\n",
       "<!-- 112450303312&#45;&gt;112453191888 -->\n",
       "<g class=\"edge\" id=\"edge6\"><title>112450303312-&gt;112453191888</title>\n",
       "<path d=\"M458.236,-243.329C438.998,-233.46 415.936,-221.63 395.697,-211.248\" fill=\"none\" stroke=\"black\"/>\n",
       "<polygon fill=\"black\" points=\"397.116,-208.042 386.621,-206.592 393.921,-214.27 397.116,-208.042\" stroke=\"black\"/>\n",
       "</g>\n",
       "<!-- 112449824192 -->\n",
       "<g class=\"node\" id=\"node8\"><title>112449824192</title>\n",
       "<polygon fill=\"none\" points=\"201.941,-81.5 201.941,-125.5 489.069,-125.5 489.069,-81.5 201.941,-81.5\" stroke=\"black\"/>\n",
       "<text font-family=\"Times,serif\" font-size=\"14.00\" text-anchor=\"middle\" x=\"275.847\" y=\"-99.3\">FullyConnected: Dense</text>\n",
       "<polyline fill=\"none\" points=\"349.752,-81.5 349.752,-125.5 \" stroke=\"black\"/>\n",
       "<text font-family=\"Times,serif\" font-size=\"14.00\" text-anchor=\"middle\" x=\"377.586\" y=\"-110.3\">input:</text>\n",
       "<polyline fill=\"none\" points=\"349.752,-103.5 405.421,-103.5 \" stroke=\"black\"/>\n",
       "<text font-family=\"Times,serif\" font-size=\"14.00\" text-anchor=\"middle\" x=\"377.586\" y=\"-88.3\">output:</text>\n",
       "<polyline fill=\"none\" points=\"405.421,-81.5 405.421,-125.5 \" stroke=\"black\"/>\n",
       "<text font-family=\"Times,serif\" font-size=\"14.00\" text-anchor=\"middle\" x=\"447.245\" y=\"-110.3\">(None, 8)</text>\n",
       "<polyline fill=\"none\" points=\"405.421,-103.5 489.069,-103.5 \" stroke=\"black\"/>\n",
       "<text font-family=\"Times,serif\" font-size=\"14.00\" text-anchor=\"middle\" x=\"447.245\" y=\"-88.3\">(None, 100)</text>\n",
       "</g>\n",
       "<!-- 112453191888&#45;&gt;112449824192 -->\n",
       "<g class=\"edge\" id=\"edge7\"><title>112453191888-&gt;112449824192</title>\n",
       "<path d=\"M345.505,-162.329C345.505,-154.183 345.505,-144.699 345.505,-135.797\" fill=\"none\" stroke=\"black\"/>\n",
       "<polygon fill=\"black\" points=\"349.005,-135.729 345.505,-125.729 342.005,-135.729 349.005,-135.729\" stroke=\"black\"/>\n",
       "</g>\n",
       "<!-- 112453146160 -->\n",
       "<g class=\"node\" id=\"node9\"><title>112453146160</title>\n",
       "<polygon fill=\"none\" points=\"217.11,-0.5 217.11,-44.5 473.9,-44.5 473.9,-0.5 217.11,-0.5\" stroke=\"black\"/>\n",
       "<text font-family=\"Times,serif\" font-size=\"14.00\" text-anchor=\"middle\" x=\"275.847\" y=\"-18.3\">Activation: Dense</text>\n",
       "<polyline fill=\"none\" points=\"334.583,-0.5 334.583,-44.5 \" stroke=\"black\"/>\n",
       "<text font-family=\"Times,serif\" font-size=\"14.00\" text-anchor=\"middle\" x=\"362.417\" y=\"-29.3\">input:</text>\n",
       "<polyline fill=\"none\" points=\"334.583,-22.5 390.252,-22.5 \" stroke=\"black\"/>\n",
       "<text font-family=\"Times,serif\" font-size=\"14.00\" text-anchor=\"middle\" x=\"362.417\" y=\"-7.3\">output:</text>\n",
       "<polyline fill=\"none\" points=\"390.252,-0.5 390.252,-44.5 \" stroke=\"black\"/>\n",
       "<text font-family=\"Times,serif\" font-size=\"14.00\" text-anchor=\"middle\" x=\"432.076\" y=\"-29.3\">(None, 100)</text>\n",
       "<polyline fill=\"none\" points=\"390.252,-22.5 473.9,-22.5 \" stroke=\"black\"/>\n",
       "<text font-family=\"Times,serif\" font-size=\"14.00\" text-anchor=\"middle\" x=\"432.076\" y=\"-7.3\">(None, 1)</text>\n",
       "</g>\n",
       "<!-- 112449824192&#45;&gt;112453146160 -->\n",
       "<g class=\"edge\" id=\"edge8\"><title>112449824192-&gt;112453146160</title>\n",
       "<path d=\"M345.505,-81.3294C345.505,-73.1826 345.505,-63.6991 345.505,-54.7971\" fill=\"none\" stroke=\"black\"/>\n",
       "<polygon fill=\"black\" points=\"349.005,-54.729 345.505,-44.729 342.005,-54.729 349.005,-54.729\" stroke=\"black\"/>\n",
       "</g>\n",
       "</g>\n",
       "</svg>"
      ],
      "text/plain": [
       "<IPython.core.display.SVG object>"
      ]
     },
     "execution_count": 39,
     "metadata": {},
     "output_type": "execute_result"
    }
   ],
   "source": [
    "SVG(model_to_dot(model,  show_shapes=True, show_layer_names=True, rankdir='HB').create(prog='dot', format='svg'))"
   ]
  },
  {
   "cell_type": "markdown",
   "metadata": {},
   "source": [
    "It should be noted that we use a different number of embeddings for user (3) and items (5)! These combine to form a vector of length (5+3 = 8), which is then fed into the neural network. We also add a dropout layer to prevent overfitting!"
   ]
  },
  {
   "cell_type": "code",
   "execution_count": 40,
   "metadata": {},
   "outputs": [
    {
     "name": "stdout",
     "output_type": "stream",
     "text": [
      "__________________________________________________________________________________________________\n",
      "Layer (type)                    Output Shape         Param #     Connected to                     \n",
      "==================================================================================================\n",
      "Item (InputLayer)               (None, 1)            0                                            \n",
      "__________________________________________________________________________________________________\n",
      "User (InputLayer)               (None, 1)            0                                            \n",
      "__________________________________________________________________________________________________\n",
      "Movie-Embedding (Embedding)     (None, 1, 5)         8415        Item[0][0]                       \n",
      "__________________________________________________________________________________________________\n",
      "User-Embedding (Embedding)      (None, 1, 3)         2832        User[0][0]                       \n",
      "__________________________________________________________________________________________________\n",
      "FlattenMovies (Flatten)         (None, 5)            0           Movie-Embedding[0][0]            \n",
      "__________________________________________________________________________________________________\n",
      "FlattenUsers (Flatten)          (None, 3)            0           User-Embedding[0][0]             \n",
      "__________________________________________________________________________________________________\n",
      "Concat (Merge)                  (None, 8)            0           FlattenMovies[0][0]              \n",
      "                                                                 FlattenUsers[0][0]               \n",
      "__________________________________________________________________________________________________\n",
      "FullyConnected (Dense)          (None, 100)          900         Concat[0][0]                     \n",
      "__________________________________________________________________________________________________\n",
      "Activation (Dense)              (None, 1)            101         FullyConnected[0][0]             \n",
      "==================================================================================================\n",
      "Total params: 12,248\n",
      "Trainable params: 12,248\n",
      "Non-trainable params: 0\n",
      "__________________________________________________________________________________________________\n"
     ]
    }
   ],
   "source": [
    "model.summary()"
   ]
  },
  {
   "cell_type": "markdown",
   "metadata": {},
   "source": [
    "We can see that the number of parameters is more than what we had in the Matrix Factorisation case. Let's see how this model works. I'll run it for more epochs given that we have more parameters."
   ]
  },
  {
   "cell_type": "code",
   "execution_count": 41,
   "metadata": {},
   "outputs": [],
   "source": [
    "history = model.fit([train.user_id, train.item_id], train.rating, epochs=150, verbose=0)"
   ]
  },
  {
   "cell_type": "markdown",
   "metadata": {},
   "source": [
    "#### Prediction performance of Neural Network based recommender system"
   ]
  },
  {
   "cell_type": "code",
   "execution_count": 43,
   "metadata": {},
   "outputs": [
    {
     "data": {
      "text/plain": [
       "0.70304999999999995"
      ]
     },
     "execution_count": 43,
     "metadata": {},
     "output_type": "execute_result"
    }
   ],
   "source": [
    "y_hat_2 = np.round(model.predict([test.user_id, test.item_id]),0)\n",
    "mean_absolute_error(y_true, y_hat_2)\n"
   ]
  },
  {
   "cell_type": "markdown",
   "metadata": {},
   "source": [
    "Pretty similar to the result we got using matrix factorisation. Maybe, we need to tweak around a lot more with the neural network to get better results?"
   ]
  },
  {
   "cell_type": "markdown",
   "metadata": {},
   "source": [
    "Thanks for reading. This post has been a good learning experience for me. Hope you enjoyed too! "
   ]
  }
 ],
 "metadata": {
  "kernelspec": {
   "display_name": "Python 3",
   "language": "python",
   "name": "python3"
  },
  "language_info": {
   "codemirror_mode": {
    "name": "ipython",
    "version": 3
   },
   "file_extension": ".py",
   "mimetype": "text/x-python",
   "name": "python",
   "nbconvert_exporter": "python",
   "pygments_lexer": "ipython3",
   "version": "3.6.3"
  }
 },
 "nbformat": 4,
 "nbformat_minor": 1
}
